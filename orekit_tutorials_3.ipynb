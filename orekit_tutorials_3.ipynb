{
 "cells": [
  {
   "cell_type": "markdown",
   "metadata": {},
   "source": [
    "Drag Models\n"
   ]
  },
  {
   "cell_type": "code",
   "execution_count": null,
   "metadata": {},
   "outputs": [],
   "source": [
    "import requests\n",
    "def download_file_url(url, local_filename):\n",
    "    from java.io import File\n",
    "    #mianly used to download the  solfsmy and dtc files for JB2008\n",
    "    with requests.get(url, stream=True) as r:\n",
    "        r.raise_for_status()\n",
    "        with open(local_filename, 'wb') as f:\n",
    "            for chunk in r.iter_content(chunk_size=8192):\n",
    "                f.write(chunk)\n",
    "    return File(local_filename)\n",
    "\n",
    "# Download SOLFSMY and DTCFILE files for JB2008 model\n",
    "solfsmy_file = download_file_url(\"https://sol.spacenvironment.net/JB2008/indices/SOLFSMY.TXT\", \"external/jb08_inputs/SOLFSMY.TXT\")\n",
    "dtcfile_file = download_file_url(\"https://sol.spacenvironment.net/JB2008/indices/DTCFILE.TXT\", \"external/jb08_inputs/DTCFILE.TXT\")\n",
    "\n",
    "from org.orekit.data import DataSource\n",
    "# Create DataSource instances\n",
    "solfsmy_data_source = DataSource(solfsmy_file)\n",
    "dtcfile_data_source = DataSource(dtcfile_file)\n"
   ]
  },
  {
   "cell_type": "code",
   "execution_count": null,
   "metadata": {},
   "outputs": [],
   "source": [
    "from orekit.pyhelpers import datetime_to_absolutedate\n",
    "from org.hipparchus.geometry.euclidean.threed import Vector3D\n",
    "from org.orekit.attitudes import NadirPointing\n",
    "from org.orekit.frames import FramesFactory\n",
    "from org.orekit.utils import IERSConventions, PVCoordinates\n",
    "from org.orekit.models.earth import ReferenceEllipsoid\n",
    "from org.orekit.bodies import CelestialBodyFactory, OneAxisEllipsoid\n",
    "from org.orekit.orbits import CartesianOrbit\n",
    "from org.hipparchus.ode.nonstiff import DormandPrince853Integrator\n",
    "from orekit import JArray_double\n",
    "from org.orekit.orbits import OrbitType\n",
    "from org.orekit.forces.gravity.potential import GravityFieldFactory, TideSystem\n",
    "from org.orekit.forces.gravity import HolmesFeatherstoneAttractionModel, SolidTides, OceanTides, ThirdBodyAttraction, Relativity, NewtonianAttraction\n",
    "# from org.orekit.forces import BoxAndSolarArraySpacecraft\n",
    "from org.orekit.forces.radiation import SolarRadiationPressure, IsotropicRadiationSingleCoefficient, KnockeRediffusedForceModel\n",
    "from org.orekit.forces.drag import DragForce, IsotropicDrag\n",
    "from org.orekit.propagation.numerical import NumericalPropagator\n",
    "from org.orekit.propagation import SpacecraftState\n",
    "from org.orekit.utils import Constants\n",
    "from org.orekit.models.earth.atmosphere.data import JB2008SpaceEnvironmentData, CssiSpaceWeatherData\n",
    "from org.orekit.models.earth.atmosphere import JB2008, DTM2000, NRLMSISE00\n",
    "from org.orekit.data import DataSource\n",
    "from org.orekit.time import TimeScalesFactory   "
   ]
  },
  {
   "cell_type": "code",
   "execution_count": null,
   "metadata": {},
   "outputs": [],
   "source": [
    "cross_section = 20.0\n",
    "cd = 2.2\n",
    "\n",
    "wgs84Ellipsoid = ReferenceEllipsoid.getWgs84(FramesFactory.getITRF(IERSConventions.IERS_2010, False))\n",
    "jb08_data = JB2008SpaceEnvironmentData(solfsmy_data_source,\n",
    "                                    dtcfile_data_source)\n",
    "utc = TimeScalesFactory.getUTC()\n",
    "sun = CelestialBodyFactory.getSun()\n",
    "atmosphere = JB2008(jb08_data, sun, wgs84Ellipsoid, utc)\n",
    "drag_sensitive = IsotropicDrag(float(cross_section), float(cd))\n",
    "dragForce = DragForce(atmosphere, drag_sensitive)\n",
    "atmospheric_drag_eci_t0 = extract_acceleration(state_vector, epochDate, mass, dragForce)\n",
    "atmospheric_drag_eci_t0 = np.array([atmospheric_drag_eci_t0[0].getX(), atmospheric_drag_eci_t0[0].getY(), atmospheric_drag_eci_t0[0].getZ()])\n",
    "accelerations_dict['jb08drag'] = atmospheric_drag_eci_t0\n"
   ]
  },
  {
   "cell_type": "code",
   "execution_count": null,
   "metadata": {},
   "outputs": [],
   "source": []
  }
 ],
 "metadata": {
  "language_info": {
   "name": "python"
  }
 },
 "nbformat": 4,
 "nbformat_minor": 2
}
