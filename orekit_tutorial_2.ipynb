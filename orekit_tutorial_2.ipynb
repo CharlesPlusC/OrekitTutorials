{
 "cells": [
  {
   "cell_type": "markdown",
   "metadata": {},
   "source": [
    "Querying Force Models at a given time/location"
   ]
  },
  {
   "cell_type": "code",
   "execution_count": 1,
   "metadata": {},
   "outputs": [
    {
     "name": "stderr",
     "output_type": "stream",
     "text": [
      "OpenJDK 64-Bit Server VM warning: Attempt to protect stack guard pages failed.\n",
      "OpenJDK 64-Bit Server VM warning: Attempt to deallocate stack guard pages failed.\n"
     ]
    }
   ],
   "source": [
    "import orekit\n",
    "from orekit.pyhelpers import setup_orekit_curdir, datetime_to_absolutedate\n",
    "# orekit.pyhelpers.download_orekit_data_curdir()\n",
    "vm = orekit.initVM()\n",
    "setup_orekit_curdir(\"orekit-data.zip\")\n",
    "#import MU from constants\n",
    "from org.orekit.utils import Constants\n",
    "MU = Constants.WGS84_EARTH_MU\n",
    "\n",
    "from org.orekit.frames import FramesFactory, ITRFVersion\n",
    "from org.orekit.utils import PVCoordinates\n",
    "from org.hipparchus.geometry.euclidean.threed import Vector3D\n",
    "from org.orekit.utils import PVCoordinates, IERSConventions\n",
    "from org.orekit.orbits import CartesianOrbit\n",
    "from org.orekit.utils import Constants, PVCoordinatesProvider\n",
    "from org.orekit.bodies import CelestialBodyFactory\n",
    "from org.orekit.time import AbsoluteDate, TimeScalesFactory\n",
    "from org.orekit.forces.gravity.potential import GravityFieldFactory\n",
    "from org.orekit.forces.gravity import HolmesFeatherstoneAttractionModel, ThirdBodyAttraction, NewtonianAttraction\n",
    "from org.orekit.propagation import SpacecraftState\n",
    "from org.orekit.forces import ForceModel"
   ]
  },
  {
   "cell_type": "code",
   "execution_count": 2,
   "metadata": {},
   "outputs": [
    {
     "name": "stdout",
     "output_type": "stream",
     "text": [
      "pv:[-24166447.8955729, 10997956.58418275, 2770753.89948468, -586.37810848, -2165.08717971, 3132.85238624]\n",
      "mono acc {0.5063336307; -0.2304283738; -0.058052631}\n",
      "grav field {0; 0; 0}\n",
      "grav_pot 14931376.108817343\n",
      "moon_3dbody_acc {0.0000009247; -0.0000025435; -0.000000743}\n",
      "sun_3dbody_acc {-0.0000002432; 0.0000016901; 0.0000008158}\n"
     ]
    }
   ],
   "source": [
    "SATELLITE_MASS=1000#kg\n",
    "\n",
    "pv =  [-24166447.8955729 ,  10997956.58418275 ,  2770753.89948468,  -586.37810848 ,-2165.08717971 , 3132.85238624]\n",
    "# pv = [-13027578.813,   6788658.455,  21921749.703,-1863.07623,-3424.9027  ,  -14.07406]\n",
    "# pv = [-22873761.86631825,\t5701767.971346985,\t12830822.295069866,    0,\t0,\t0]\n",
    "# pv = [15713.09916*1000,17610.085702*1000,12780.161855*1000,0,0,0]\n",
    "# pv = [6378137, 0, 0,0,0,0]\n",
    "print(f\"pv:{pv}\")\n",
    "\n",
    "position = Vector3D(float(pv[0]), float(pv[1]), float(pv[2]))\n",
    "velocity = Vector3D(float(pv[3]), float(pv[4]), float(pv[5]))\n",
    "pvCoordinates = PVCoordinates(position, velocity)\n",
    "\n",
    "\n",
    "utc = TimeScalesFactory.getUTC()\n",
    "# Epoch_date = AbsoluteDate(YYYY, MM, DD, H, M, S, utc)\n",
    "# Epoch_date = AbsoluteDate(2023, 1, 18, 23, 59, 0.0, utc)\n",
    "# Epoch_date = AbsoluteDate(2019, 11, 30, 23, 59, 42.0, utc)\n",
    "Epoch_date = AbsoluteDate(2020, 1, 18, 23, 59, 42.0, utc)\n",
    "\n",
    "MU = Constants.WGS84_EARTH_MU\n",
    "monopole_provider = NewtonianAttraction(MU)\n",
    "\n",
    "gravityProvider = GravityFieldFactory.getNormalizedProvider(0, 0)\n",
    "gravityfield = HolmesFeatherstoneAttractionModel(FramesFactory.getITRF(IERSConventions.IERS_2010, False), gravityProvider)\n",
    "\n",
    "moon = CelestialBodyFactory.getMoon()\n",
    "moon_3dbodyattraction = ThirdBodyAttraction(moon)\n",
    "\n",
    "sun = CelestialBodyFactory.getSun()\n",
    "sun_3dbodyattraction = ThirdBodyAttraction(sun)\n",
    "\n",
    "orbit = CartesianOrbit(pvCoordinates, FramesFactory.getEME2000(), Epoch_date, Constants.WGS84_EARTH_MU)\n",
    "state = SpacecraftState(orbit, float(SATELLITE_MASS))\n",
    "\n",
    "monopole_parameters = ForceModel.cast_(monopole_provider).getParameters()\n",
    "monopole_acc = monopole_provider.acceleration(state, monopole_parameters)\n",
    "\n",
    "grav_parameters = ForceModel.cast_(gravityfield).getParameters()\n",
    "grav_acc = gravityfield.acceleration(state, grav_parameters)\n",
    "grav_pot = gravityfield.value(Epoch_date, position, MU)\n",
    "\n",
    "moon_3dbody_parameters = ForceModel.cast_(moon_3dbodyattraction).getParameters()\n",
    "moon_3dbody_acc = moon_3dbodyattraction.acceleration(state, moon_3dbody_parameters)\n",
    "\n",
    "sun_3dbody_parameters = ForceModel.cast_(sun_3dbodyattraction).getParameters()\n",
    "sun_3dbody_acc = sun_3dbodyattraction.acceleration(state, sun_3dbody_parameters)\n",
    "\n",
    "print(f\"mono acc {monopole_acc}\")\n",
    "print(f\"grav field {grav_acc}\")\n",
    "print(f\"grav_pot {grav_pot}\")\n",
    "print(f\"moon_3dbody_acc {moon_3dbody_acc}\") \n",
    "print(f\"sun_3dbody_acc {sun_3dbody_acc}\")"
   ]
  },
  {
   "cell_type": "code",
   "execution_count": null,
   "metadata": {},
   "outputs": [],
   "source": []
  }
 ],
 "metadata": {
  "kernelspec": {
   "display_name": "orekit_tutorials_env",
   "language": "python",
   "name": "python3"
  },
  "language_info": {
   "codemirror_mode": {
    "name": "ipython",
    "version": 3
   },
   "file_extension": ".py",
   "mimetype": "text/x-python",
   "name": "python",
   "nbconvert_exporter": "python",
   "pygments_lexer": "ipython3",
   "version": "3.11.10"
  }
 },
 "nbformat": 4,
 "nbformat_minor": 2
}
